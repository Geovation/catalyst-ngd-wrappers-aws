{
 "cells": [
  {
   "cell_type": "code",
   "execution_count": 15,
   "id": "3f3d7692",
   "metadata": {},
   "outputs": [],
   "source": [
    "def parse_base_path(full_path: str) -> tuple[str, str]:\n",
    "    '''Parses the path from a full URL, extracting the collection name if present.'''\n",
    "    full_path = full_path[1:]\n",
    "    shortbase = 'catalyst/features/'\n",
    "    if not full_path.startswith(shortbase):\n",
    "        return full_path, ''\n",
    "    longbase = f'{shortbase}latest-collections/'\n",
    "    prefix = longbase if full_path.startswith(longbase) else shortbase\n",
    "    stripped_path = full_path.replace(prefix, '')\n",
    "    if not stripped_path:\n",
    "        return full_path, ''\n",
    "    collection = stripped_path.split('/')[0]\n",
    "    parsed_path = full_path.replace(shortbase, '').replace(collection, '{collection}')\n",
    "    return parsed_path, collection\n",
    "\n",
    "\n",
    "def switch_route(route: str) -> callable:\n",
    "    '''Returns the appropriate function based on the route.'''\n",
    "    match route:\n",
    "        case '{collection}/items/base':\n",
    "            return aws_base\n",
    "        case '{collection}/items/limit':\n",
    "            return aws_limit\n",
    "        case '{collection}/items/geom':\n",
    "            return aws_geom\n",
    "        case '{collection}/items/col':\n",
    "            return aws_col\n",
    "        case '{collection}/items/limit_geom':\n",
    "            return aws_limit_geom\n",
    "        case '{collection}/items/limit_col':\n",
    "            return aws_limit_col\n",
    "        case '{collection}/items/geom_col':\n",
    "            return aws_geom_col\n",
    "        case '{collection}/items/limit_geom_col':\n",
    "            return aws_limit_geom_col\n",
    "        case 'latest-collections/{collection}':\n",
    "            return aws_latest_collections\n",
    "        case _:\n",
    "            raise ValueError\n",
    "\n",
    "\n",
    "def lambda_handler(event: dict, context = None) -> dict:\n",
    "    '''\n",
    "    AWS Lambda handler function.\n",
    "    Routes the request to the appropriate function based on the event data.\n",
    "    '''\n",
    "\n",
    "    path = event['path']\n",
    "    parsed_path, collection = parse_base_path(path)\n",
    "    event['custom'] = {\n",
    "        'parsedPath': parsed_path,\n",
    "        'routeParams': {\n",
    "            'collection': collection\n",
    "        }\n",
    "    }\n",
    "\n",
    "    func = switch_route(parsed_path)\n",
    "    return func"
   ]
  },
  {
   "cell_type": "code",
   "execution_count": 18,
   "id": "72db782c",
   "metadata": {},
   "outputs": [
    {
     "ename": "NameError",
     "evalue": "name 'aws_base' is not defined",
     "output_type": "error",
     "traceback": [
      "\u001b[31m---------------------------------------------------------------------------\u001b[39m",
      "\u001b[31mNameError\u001b[39m                                 Traceback (most recent call last)",
      "\u001b[36mCell\u001b[39m\u001b[36m \u001b[39m\u001b[32mIn[18]\u001b[39m\u001b[32m, line 1\u001b[39m\n\u001b[32m----> \u001b[39m\u001b[32m1\u001b[39m \u001b[43mlambda_handler\u001b[49m\u001b[43m(\u001b[49m\u001b[43m{\u001b[49m\u001b[33;43m'\u001b[39;49m\u001b[33;43mpath\u001b[39;49m\u001b[33;43m'\u001b[39;49m\u001b[43m:\u001b[49m\u001b[33;43m'\u001b[39;49m\u001b[33;43m/catalyst/features/bld-fts-building-1/items/base\u001b[39;49m\u001b[33;43m'\u001b[39;49m\u001b[43m}\u001b[49m\u001b[43m)\u001b[49m\n",
      "\u001b[36mCell\u001b[39m\u001b[36m \u001b[39m\u001b[32mIn[15]\u001b[39m\u001b[32m, line 57\u001b[39m, in \u001b[36mlambda_handler\u001b[39m\u001b[34m(event, context)\u001b[39m\n\u001b[32m     49\u001b[39m parsed_path, collection = parse_base_path(path)\n\u001b[32m     50\u001b[39m event[\u001b[33m'\u001b[39m\u001b[33mcustom\u001b[39m\u001b[33m'\u001b[39m] = {\n\u001b[32m     51\u001b[39m     \u001b[33m'\u001b[39m\u001b[33mparsedPath\u001b[39m\u001b[33m'\u001b[39m: parsed_path,\n\u001b[32m     52\u001b[39m     \u001b[33m'\u001b[39m\u001b[33mrouteParams\u001b[39m\u001b[33m'\u001b[39m: {\n\u001b[32m     53\u001b[39m         \u001b[33m'\u001b[39m\u001b[33mcollection\u001b[39m\u001b[33m'\u001b[39m: collection\n\u001b[32m     54\u001b[39m     }\n\u001b[32m     55\u001b[39m }\n\u001b[32m---> \u001b[39m\u001b[32m57\u001b[39m func = \u001b[43mswitch_route\u001b[49m\u001b[43m(\u001b[49m\u001b[43mparsed_path\u001b[49m\u001b[43m)\u001b[49m\n\u001b[32m     58\u001b[39m \u001b[38;5;28;01mreturn\u001b[39;00m func\n",
      "\u001b[36mCell\u001b[39m\u001b[36m \u001b[39m\u001b[32mIn[15]\u001b[39m\u001b[32m, line 21\u001b[39m, in \u001b[36mswitch_route\u001b[39m\u001b[34m(route)\u001b[39m\n\u001b[32m     19\u001b[39m \u001b[38;5;28;01mmatch\u001b[39;00m route:\n\u001b[32m     20\u001b[39m     \u001b[38;5;28;01mcase\u001b[39;00m \u001b[33m'\u001b[39m\u001b[38;5;132;01m{collection}\u001b[39;00m\u001b[33m/items/base\u001b[39m\u001b[33m'\u001b[39m:\n\u001b[32m---> \u001b[39m\u001b[32m21\u001b[39m         \u001b[38;5;28;01mreturn\u001b[39;00m \u001b[43maws_base\u001b[49m\n\u001b[32m     22\u001b[39m     \u001b[38;5;28;01mcase\u001b[39;00m \u001b[33m'\u001b[39m\u001b[38;5;132;01m{collection}\u001b[39;00m\u001b[33m/items/limit\u001b[39m\u001b[33m'\u001b[39m:\n\u001b[32m     23\u001b[39m         \u001b[38;5;28;01mreturn\u001b[39;00m aws_limit\n",
      "\u001b[31mNameError\u001b[39m: name 'aws_base' is not defined"
     ]
    }
   ],
   "source": [
    "lambda_handler({'path':'/catalyst/features/bld-fts-building-1/items/base'})"
   ]
  },
  {
   "cell_type": "code",
   "execution_count": null,
   "id": "c9358180",
   "metadata": {},
   "outputs": [],
   "source": []
  }
 ],
 "metadata": {
  "language_info": {
   "name": "python"
  }
 },
 "nbformat": 4,
 "nbformat_minor": 5
}
